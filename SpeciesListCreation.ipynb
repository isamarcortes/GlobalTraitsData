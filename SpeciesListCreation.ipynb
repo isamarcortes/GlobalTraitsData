{
 "cells": [
  {
   "cell_type": "code",
   "execution_count": 2,
   "id": "71dc9a5d-88d6-410d-8d5e-dcbacbc5c32e",
   "metadata": {},
   "outputs": [],
   "source": [
    "import pandas as pd"
   ]
  },
  {
   "cell_type": "code",
   "execution_count": 3,
   "id": "f6c02a35-357a-4f9a-a1d5-76c0d051ad6e",
   "metadata": {},
   "outputs": [],
   "source": [
    "Africa = pd.read_csv(\"C:/Users/cenv1124/Downloads/Africa_abM_v4.csv\", encoding='latin-1', nrows = 0)\n",
    "Asia = pd.read_csv(\"C:/Users/cenv1124/Downloads/Asia_abM_v4.csv\", nrows = 0)\n",
    "Canada = pd.read_csv(\"C:/Users/cenv1124/Downloads/Canada_abM_v4_7.csv\", nrows = 0)\n",
    "Europe = pd.read_csv(\"C:/Users/cenv1124/Downloads/Europe_abM_v4.csv\", nrows = 0)\n",
    "N_America = pd.read_csv(\"C:/Users/cenv1124/Downloads/NorthAmerica_RestOfArea_abM_v4_7.csv\", nrows = 0)\n",
    "USA = pd.read_csv(\"C:/Users/cenv1124/Downloads/US_abM_v4_7.csv\", nrows = 0)\n",
    "Oceania = pd.read_csv(\"C:/Users/cenv1124/Downloads/Oceania_abM_v4.csv\", nrows = 0)\n",
    "S_America = pd.read_csv(\"C:/Users/cenv1124/Downloads/SouthAmerica_abM_v4.csv\", nrows = 0)"
   ]
  },
  {
   "cell_type": "code",
   "execution_count": 8,
   "id": "4a6b208a-7166-41f9-b737-78fd07b654b3",
   "metadata": {},
   "outputs": [],
   "source": [
    "file = Africa.transpose()\n",
    "file.to_csv('C:/Users/cenv1124/OneDrive - Nexus365/GlobalTraitsData/SpeciesTraitsData/Africa.csv')"
   ]
  },
  {
   "cell_type": "code",
   "execution_count": 9,
   "id": "6447cba1-f37b-4e2c-8f2c-af447304b6e2",
   "metadata": {},
   "outputs": [],
   "source": [
    "file = Asia.transpose()\n",
    "file.to_csv('C:/Users/cenv1124/OneDrive - Nexus365/GlobalTraitsData/SpeciesTraitsData/Asia.csv')"
   ]
  },
  {
   "cell_type": "code",
   "execution_count": 10,
   "id": "372da3b8-5b6d-460c-993c-2c85b276c0e4",
   "metadata": {},
   "outputs": [],
   "source": [
    "file = Canada.transpose()\n",
    "file.to_csv('C:/Users/cenv1124/OneDrive - Nexus365/GlobalTraitsData/SpeciesTraitsData/Canada.csv')"
   ]
  },
  {
   "cell_type": "code",
   "execution_count": 11,
   "id": "2e6649f3-13cf-462c-b62a-5fe573aaa433",
   "metadata": {},
   "outputs": [],
   "source": [
    "file = Europe.transpose()\n",
    "file.to_csv('C:/Users/cenv1124/OneDrive - Nexus365/GlobalTraitsData/SpeciesTraitsData/Europe.csv')"
   ]
  },
  {
   "cell_type": "code",
   "execution_count": 12,
   "id": "f2eefc78-59ba-4ea5-8c86-2dbbcf7abe51",
   "metadata": {},
   "outputs": [],
   "source": [
    "file = N_America.transpose()\n",
    "file.to_csv('C:/Users/cenv1124/OneDrive - Nexus365/GlobalTraitsData/SpeciesTraitsData/N_America.csv')"
   ]
  },
  {
   "cell_type": "code",
   "execution_count": 13,
   "id": "9f6556f3-0734-4973-8929-527ab11c7807",
   "metadata": {},
   "outputs": [],
   "source": [
    "file = USA.transpose()\n",
    "file.to_csv('C:/Users/cenv1124/OneDrive - Nexus365/GlobalTraitsData/SpeciesTraitsData/USA.csv')"
   ]
  },
  {
   "cell_type": "code",
   "execution_count": 14,
   "id": "d38a20b4-dd49-4ba4-8afb-eb64027cf71c",
   "metadata": {},
   "outputs": [],
   "source": [
    "file = Oceania.transpose()\n",
    "file.to_csv('C:/Users/cenv1124/OneDrive - Nexus365/GlobalTraitsData/SpeciesTraitsData/Oceania.csv')"
   ]
  },
  {
   "cell_type": "code",
   "execution_count": 15,
   "id": "8deff903-eddc-4045-9a90-055aa2c296a0",
   "metadata": {},
   "outputs": [],
   "source": [
    "file = S_America.transpose()\n",
    "file.to_csv('C:/Users/cenv1124/OneDrive - Nexus365/GlobalTraitsData/SpeciesTraitsData/S_America.csv')"
   ]
  },
  {
   "cell_type": "code",
   "execution_count": 4,
   "id": "c19fee1b-ed55-4ca3-b2fe-aaf19a1ac9b1",
   "metadata": {},
   "outputs": [],
   "source": [
    "Afr = Africa.transpose()\n",
    "Asi = Asia.transpose()\n",
    "Can = Canada.transpose()\n",
    "Eur = Europe.transpose()\n",
    "Mex = N_America.transpose()\n",
    "States = USA.transpose()\n",
    "Oce = Oceania.transpose()\n",
    "S_Amer = S_America.transpose()"
   ]
  },
  {
   "cell_type": "code",
   "execution_count": 6,
   "id": "094fd3f1-3f2b-4b13-bd41-874aa3894025",
   "metadata": {},
   "outputs": [
    {
     "ename": "AttributeError",
     "evalue": "'DataFrame' object has no attribute 'type'",
     "output_type": "error",
     "traceback": [
      "\u001b[1;31m---------------------------------------------------------------------------\u001b[0m",
      "\u001b[1;31mAttributeError\u001b[0m                            Traceback (most recent call last)",
      "\u001b[1;32m~\\AppData\\Local\\Temp\\ipykernel_7900\\3821781878.py\u001b[0m in \u001b[0;36m?\u001b[1;34m()\u001b[0m\n\u001b[1;32m----> 1\u001b[1;33m \u001b[0mprint\u001b[0m\u001b[1;33m(\u001b[0m\u001b[0mAfr\u001b[0m\u001b[1;33m.\u001b[0m\u001b[0mtype\u001b[0m\u001b[1;33m(\u001b[0m\u001b[1;33m)\u001b[0m\u001b[1;33m)\u001b[0m\u001b[1;33m\u001b[0m\u001b[1;33m\u001b[0m\u001b[0m\n\u001b[0m",
      "\u001b[1;32m~\\.conda\\envs\\ECI\\Lib\\site-packages\\pandas\\core\\generic.py\u001b[0m in \u001b[0;36m?\u001b[1;34m(self, name)\u001b[0m\n\u001b[0;32m   6295\u001b[0m             \u001b[1;32mand\u001b[0m \u001b[0mname\u001b[0m \u001b[1;32mnot\u001b[0m \u001b[1;32min\u001b[0m \u001b[0mself\u001b[0m\u001b[1;33m.\u001b[0m\u001b[0m_accessors\u001b[0m\u001b[1;33m\u001b[0m\u001b[1;33m\u001b[0m\u001b[0m\n\u001b[0;32m   6296\u001b[0m             \u001b[1;32mand\u001b[0m \u001b[0mself\u001b[0m\u001b[1;33m.\u001b[0m\u001b[0m_info_axis\u001b[0m\u001b[1;33m.\u001b[0m\u001b[0m_can_hold_identifiers_and_holds_name\u001b[0m\u001b[1;33m(\u001b[0m\u001b[0mname\u001b[0m\u001b[1;33m)\u001b[0m\u001b[1;33m\u001b[0m\u001b[1;33m\u001b[0m\u001b[0m\n\u001b[0;32m   6297\u001b[0m         \u001b[1;33m)\u001b[0m\u001b[1;33m:\u001b[0m\u001b[1;33m\u001b[0m\u001b[1;33m\u001b[0m\u001b[0m\n\u001b[0;32m   6298\u001b[0m             \u001b[1;32mreturn\u001b[0m \u001b[0mself\u001b[0m\u001b[1;33m[\u001b[0m\u001b[0mname\u001b[0m\u001b[1;33m]\u001b[0m\u001b[1;33m\u001b[0m\u001b[1;33m\u001b[0m\u001b[0m\n\u001b[1;32m-> 6299\u001b[1;33m         \u001b[1;32mreturn\u001b[0m \u001b[0mobject\u001b[0m\u001b[1;33m.\u001b[0m\u001b[0m__getattribute__\u001b[0m\u001b[1;33m(\u001b[0m\u001b[0mself\u001b[0m\u001b[1;33m,\u001b[0m \u001b[0mname\u001b[0m\u001b[1;33m)\u001b[0m\u001b[1;33m\u001b[0m\u001b[1;33m\u001b[0m\u001b[0m\n\u001b[0m",
      "\u001b[1;31mAttributeError\u001b[0m: 'DataFrame' object has no attribute 'type'"
     ]
    }
   ],
   "source": []
  }
 ],
 "metadata": {
  "kernelspec": {
   "display_name": "Python 3 (ipykernel)",
   "language": "python",
   "name": "python3"
  },
  "language_info": {
   "codemirror_mode": {
    "name": "ipython",
    "version": 3
   },
   "file_extension": ".py",
   "mimetype": "text/x-python",
   "name": "python",
   "nbconvert_exporter": "python",
   "pygments_lexer": "ipython3",
   "version": "3.13.2"
  }
 },
 "nbformat": 4,
 "nbformat_minor": 5
}
